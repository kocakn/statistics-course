{
 "cells": [
  {
   "cell_type": "markdown",
   "id": "645ceab3",
   "metadata": {},
   "source": [
    "Необходимо смоделировать 2 количественных признака для трех случаев:\n",
    "\n",
    "1. X, Y - гауссовское распределение, имеют монотонную зависимость \n",
    "2. X, Y - негауссовское распределение, имеют линейную монотонную зависимость \n",
    "3. X, Y - негауссовское распределение, имеют нелинейную немонотонную зависимость\n",
    "\n",
    "Для полученных данных проверить гипотезу о зависимости признаков тремя критериями:\n",
    "\n",
    "1. Выборочный коэффициент корреляции \n",
    "2. Критерий спирмана Критерий \n",
    "3. Хи-квадрат Пирсона \n",
    "\n",
    "Вычислить частоту ошибок второго рода для каждого случая и сравнить полученные результаты."
   ]
  },
  {
   "cell_type": "code",
   "execution_count": 1,
   "id": "c35028dd",
   "metadata": {},
   "outputs": [],
   "source": [
    "import numpy as np\n",
    "from scipy import stats as sts\n",
    "from scipy.stats import chi2_contingency\n",
    "import matplotlib.pyplot as plt"
   ]
  },
  {
   "cell_type": "code",
   "execution_count": 187,
   "id": "5f9430d7",
   "metadata": {},
   "outputs": [],
   "source": [
    "def sample1(mu, sigma, n):\n",
    "    x = np.random.normal(mu, sigma, n)\n",
    "    y = 0.4 * x - 3 * np.random.normal(mu, sigma, n)\n",
    "    return x, y\n",
    "\n",
    "def sample2(mu, sigma, n):\n",
    "    x = np.random.normal(mu, sigma, n)\n",
    "    y = 0.4 * x**3 + 5 * np.random.normal(mu, sigma, n)\n",
    "    return x, y\n",
    "\n",
    "def sample3(mu, sigma, n):\n",
    "    x = np.random.normal(mu, sigma, n)\n",
    "    y = 0.4 * x**2 + 2 * np.random.normal(mu, sigma, n)\n",
    "    return x, y"
   ]
  },
  {
   "cell_type": "code",
   "execution_count": 176,
   "id": "81b3bcfb",
   "metadata": {},
   "outputs": [],
   "source": [
    "# Выборочный коэффициент корреляции\n",
    "def corr_coef_test(x, y, alpha=0.05):\n",
    "    n = len(x)\n",
    "    x_mean = x.mean()\n",
    "    y_mean = y.mean()\n",
    "\n",
    "    # Pearson\n",
    "    r = (\n",
    "            1/n * np.sum((x - x_mean)*(y - y_mean)) / \n",
    "            (1/n*np.sum((x - x_mean)**2) * 1/n*np.sum((y - y_mean)**2))**0.5\n",
    "    )\n",
    "    t = n ** 0.5 * r\n",
    "    # p-value\n",
    "    p_value = np.min(np.array([2 * sts.norm.cdf(t), 2 - 2 * sts.norm.cdf(t)]), axis=0)\n",
    "    if (p_value > alpha / 2) and (p_value < (1 - alpha / 2)):\n",
    "        h0 = 'Принимаем H0'\n",
    "    else:\n",
    "        h0 = 'Отвергаем H0'\n",
    "    return r, p_value, h0"
   ]
  },
  {
   "cell_type": "code",
   "execution_count": 177,
   "id": "5e547a8d",
   "metadata": {},
   "outputs": [],
   "source": [
    "# Критерий Спирмена\n",
    "def spearman_test(x, y, alpha=0.05):\n",
    "    n = len(x)\n",
    "    x_ranks = sts.rankdata(x)\n",
    "    y_ranks = sts.rankdata(y)\n",
    "\n",
    "    s = np.sum((x_ranks - y_ranks)**2)\n",
    "    # Spearman\n",
    "    r = 1 - 6*s/(n**3 - n)\n",
    "    t = (n-1)**0.5 * r\n",
    "    p_value = np.min(np.array([2 * sts.norm.cdf(t), 2 - 2 * sts.norm.cdf(t)]), axis=0)\n",
    "    if (p_value > alpha / 2) and (p_value < (1 - alpha / 2)):\n",
    "        h0 = 'Принимаем H0'\n",
    "    else:\n",
    "        h0 = 'Отвергаем H0'\n",
    "    return r, p_value, h0"
   ]
  },
  {
   "cell_type": "code",
   "execution_count": 178,
   "id": "b4a39fd1",
   "metadata": {},
   "outputs": [],
   "source": [
    "# Критерий Пирсона (хи-квадрат)\n",
    "def to_nominal(x, k):\n",
    "    x_sort = np.sort(x)\n",
    "    x_in_scale = np.zeros(k)\n",
    "    slices = np.linspace(x_sort[0], x_sort[-1], k+1)\n",
    "    for i in range(k):\n",
    "        x_part = x[x >= slices[i]]\n",
    "        x_count = (x_part <= slices[i+1]).sum()\n",
    "        x_in_scale[i] = x_count\n",
    "    return x_in_scale\n",
    "\n",
    "def chi2_test(x, y, alpha=0.05):\n",
    "    n = len(x)\n",
    "    x_nom, y_nom = to_nominal(x, 5), to_nominal(y, 5)\n",
    "    matrix = np.concatenate(([x_nom], [y_nom]))\n",
    "    chi_square_value = 0\n",
    "\n",
    "    for i in range(2):\n",
    "        for j in range(len(x_nom)):\n",
    "            chi_square_value += (matrix[i][j] - (np.sum(matrix[i]) * np.sum(matrix[:,j]) / np.sum(matrix))) ** 2 \\\n",
    "            / (np.sum(matrix[i]) * np.sum(matrix[:,j]) / np.sum(matrix))\n",
    "\n",
    "    # cdf\n",
    "    p_value = 1 - sts.chi2.cdf(chi_square_value, (len(x_nom) - 1))\n",
    "    if p_value > alpha:\n",
    "        h0_true = 'Принимаем H0'\n",
    "    else:\n",
    "        h0_true = 'Отвергаем H0'\n",
    "    return chi_square_value, p_value, h0_true"
   ]
  },
  {
   "cell_type": "code",
   "execution_count": 179,
   "id": "f3bb2b46",
   "metadata": {},
   "outputs": [],
   "source": [
    "# перевод из текста\n",
    "def summarize_hypothesis(listed_text):\n",
    "    return sum(1 if text == 'Принимаем H0' else 0 for text in listed_text)\n",
    "\n",
    "# Подсчёт ошибок 2-го рода\n",
    "def beta_errors(amount, f, mu, sigma, size):\n",
    "    corr_coef_res  = []\n",
    "    spearman_res = []\n",
    "    pearson_res   = []\n",
    "    for _ in range(amount):\n",
    "        x, y = f(mu, sigma, size)\n",
    "        corr_coef_res.append(corr_coef_test(x, y)[2])\n",
    "        spearman_res.append(spearman_test(x, y)[2])\n",
    "        pearson_res.append(chi2_test(x, y)[2])\n",
    "    \n",
    "    \n",
    "    \n",
    "    corr_coef_freq = summarize_hypothesis(corr_coef_res) / amount\n",
    "    spearman_freq = summarize_hypothesis(spearman_res) / amount\n",
    "    pearson_freq = summarize_hypothesis(pearson_res) / amount\n",
    "    \n",
    "    return corr_coef_freq, spearman_freq, pearson_freq"
   ]
  },
  {
   "cell_type": "markdown",
   "id": "6c365cd3",
   "metadata": {},
   "source": [
    "# Распределения"
   ]
  },
  {
   "cell_type": "markdown",
   "id": "828c6d76",
   "metadata": {},
   "source": [
    "## X, Y - гауссовское распределение, имеют монотонную зависимость"
   ]
  },
  {
   "cell_type": "code",
   "execution_count": 180,
   "id": "47244f80",
   "metadata": {},
   "outputs": [],
   "source": [
    "mu1 = 2\n",
    "sigma1 = 4\n",
    "size1 = 1000"
   ]
  },
  {
   "cell_type": "code",
   "execution_count": 188,
   "id": "244a21c0",
   "metadata": {},
   "outputs": [
    {
     "data": {
      "image/png": "[encoded data removed]",
      "text/plain": [
       "<Figure size 432x288 with 1 Axes>"
      ]
     },
     "metadata": {
      "needs_background": "light"
     },
     "output_type": "display_data"
    }
   ],
   "source": [
    "x1, y1 = sample1(mu1, sigma1, size1)\n",
    "plt.scatter(x1, y1)\n",
    "plt.show()"
   ]
  },
  {
   "cell_type": "markdown",
   "id": "e3d2d9cc",
   "metadata": {},
   "source": [
    "##### Выборочный коэффициент корреляции"
   ]
  },
  {
   "cell_type": "code",
   "execution_count": 182,
   "id": "541c936b",
   "metadata": {},
   "outputs": [
    {
     "name": "stdout",
     "output_type": "stream",
     "text": [
      "Выборочный коэффициент корреляции: 0.05003824543014319, P-value: 0.11357009002475804, Принимаем H0\n",
      "corr_coeff_lib: 0.05003824543014315, p_value_lib: 0.11379578171034968\n"
     ]
    }
   ],
   "source": [
    "corr_coeff, p_value, h0_res = corr_coef_test(x1, y1)\n",
    "print(f'Выборочный коэффициент корреляции: {corr_coeff}, P-value: {p_value}, {h0_res}')\n",
    "corr_coeff_lib, p_value_lib = sts.pearsonr(x1, y1)\n",
    "print(f'corr_coeff_lib: {corr_coeff_lib}, p_value_lib: {p_value_lib}')"
   ]
  },
  {
   "cell_type": "markdown",
   "id": "7a0a1d86",
   "metadata": {},
   "source": [
    "##### Критерий Спирмена"
   ]
  },
  {
   "cell_type": "code",
   "execution_count": 183,
   "id": "1ab6fb76",
   "metadata": {},
   "outputs": [
    {
     "name": "stdout",
     "output_type": "stream",
     "text": [
      "Критерий Спирмена: 0.04255091455091453, P-value: 0.17865588057153747, Принимаем H0\n",
      "Spearman_lib: 0.04255091455091455, p_value_lib: 0.17878543795288201\n"
     ]
    }
   ],
   "source": [
    "spearman_corr, p_value, h0_res = spearman_test(x1, y1)\n",
    "print(f'Критерий Спирмена: {spearman_corr}, P-value: {p_value}, {h0_res}')\n",
    "spearman_corr_lib, p_value_lib = sts.spearmanr(x1, y1)\n",
    "print(f'Spearman_lib: {spearman_corr_lib}, p_value_lib: {p_value_lib}')"
   ]
  },
  {
   "cell_type": "markdown",
   "id": "06bafb51",
   "metadata": {},
   "source": [
    "##### Критерий $\\chi^2$"
   ]
  },
  {
   "cell_type": "code",
   "execution_count": 184,
   "id": "3dfbf31e",
   "metadata": {},
   "outputs": [
    {
     "name": "stdout",
     "output_type": "stream",
     "text": [
      "Критерий Хи-квадрат: 25.271957290161282, P-value: 4.435580989048393e-05, Отвергаем H0\n",
      "chi2_lib: 25.271957290161282, p_value_lib: 4.4355809890498834e-05\n"
     ]
    }
   ],
   "source": [
    "chi2_corr, p_value, h0_res = chi2_test(x1, y1)\n",
    "print(f'Критерий Хи-квадрат: {chi2_corr}, P-value: {p_value}, {h0_res}')\n",
    "chi2_lib, p_value_lib, _, _ = chi2_contingency([to_nominal(x1, 5), to_nominal(y1, 5)])\n",
    "print(f'chi2_lib: {chi2_lib}, p_value_lib: {p_value_lib}')"
   ]
  },
  {
   "cell_type": "markdown",
   "id": "d2fc7db1",
   "metadata": {},
   "source": [
    "Подсчет ошибок 2-го рода"
   ]
  },
  {
   "cell_type": "code",
   "execution_count": 189,
   "id": "63cb8a0f",
   "metadata": {},
   "outputs": [],
   "source": [
    "amount = 1000\n",
    "sample = sample1\n",
    "mu = 2\n",
    "sigma = 4\n",
    "size = 1000"
   ]
  },
  {
   "cell_type": "code",
   "execution_count": 190,
   "id": "f81360d8",
   "metadata": {},
   "outputs": [
    {
     "name": "stdout",
     "output_type": "stream",
     "text": [
      "Гауссовское распределение:\n",
      "corr_coef_test = 0.017\n",
      "spearman_test = 0.032\n",
      "pearson_test = 0.155\n",
      "Wall time: 3.58 s\n"
     ]
    }
   ],
   "source": [
    "%%time\n",
    "corr_freq, spearman_freq, chi2_freq = beta_errors(amount, sample, mu, sigma, size)\n",
    "print('Гауссовское распределение:')\n",
    "print(f'corr_coef_test = {corr_freq}')\n",
    "print(f'spearman_test = {spearman_freq}')\n",
    "print(f'pearson_test = {chi2_freq}')"
   ]
  },
  {
   "cell_type": "markdown",
   "id": "23728550",
   "metadata": {},
   "source": [
    "## X, Y - негауссовское распределение, имеют линейную монотонную зависимость"
   ]
  },
  {
   "cell_type": "code",
   "execution_count": 92,
   "id": "0e050f69",
   "metadata": {},
   "outputs": [],
   "source": [
    "mu2 = 0\n",
    "sigma2 = 2\n",
    "size2 = 1000"
   ]
  },
  {
   "cell_type": "code",
   "execution_count": 95,
   "id": "9cea56d6",
   "metadata": {},
   "outputs": [
    {
     "data": {
      "image/png": "[encoded data removed]",
      "text/plain": [
       "<Figure size 432x288 with 1 Axes>"
      ]
     },
     "metadata": {
      "needs_background": "light"
     },
     "output_type": "display_data"
    }
   ],
   "source": [
    "x2, y2 = sample2(mu2, sigma2, size2)\n",
    "plt.scatter(x2, y2)\n",
    "plt.show()"
   ]
  },
  {
   "cell_type": "markdown",
   "id": "317269b1",
   "metadata": {},
   "source": [
    "##### Выборочный коэффициент корреляции"
   ]
  },
  {
   "cell_type": "code",
   "execution_count": 96,
   "id": "47e092fb",
   "metadata": {},
   "outputs": [
    {
     "name": "stdout",
     "output_type": "stream",
     "text": [
      "Выборочный коэффициент корреляции: 0.6071980274934726, P-value: 0.0, Отвергаем H0\n",
      "corr_coeff_lib: 0.6071980274934723, p_value_lib: 8.699162820158478e-102\n"
     ]
    }
   ],
   "source": [
    "corr_coeff, p_value, h0_res = corr_coef_test(x2, y2)\n",
    "print(f'Выборочный коэффициент корреляции: {corr_coeff}, P-value: {p_value}, {h0_res}')\n",
    "corr_coeff_lib, p_value_lib = sts.pearsonr(x2, y2)\n",
    "print(f'corr_coeff_lib: {corr_coeff_lib}, p_value_lib: {p_value_lib}')"
   ]
  },
  {
   "cell_type": "markdown",
   "id": "e4ab13ef",
   "metadata": {},
   "source": [
    "##### Критерий Спирмена"
   ]
  },
  {
   "cell_type": "code",
   "execution_count": 133,
   "id": "84da5cf5",
   "metadata": {},
   "outputs": [
    {
     "name": "stdout",
     "output_type": "stream",
     "text": [
      "Критерий Спирмена: 0.43744640944640945, P-value: 0.0, Отвергаем H0\n",
      "Spearman_lib: 0.4374464094464095, p_value_lib: 5.3647684182597867e-48\n"
     ]
    }
   ],
   "source": [
    "spearman_corr, p_value, h0_res = spearman_test(x2, y2)\n",
    "print(f'Критерий Спирмена: {spearman_corr}, P-value: {p_value}, {h0_res}')\n",
    "spearman_corr_lib, p_value_lib = sts.spearmanr(x2, y2)\n",
    "print(f'Spearman_lib: {spearman_corr_lib}, p_value_lib: {p_value_lib}')"
   ]
  },
  {
   "cell_type": "markdown",
   "id": "7fa43810",
   "metadata": {},
   "source": [
    "##### Критерий $\\chi^2$"
   ]
  },
  {
   "cell_type": "code",
   "execution_count": 98,
   "id": "e564bfd4",
   "metadata": {},
   "outputs": [
    {
     "name": "stdout",
     "output_type": "stream",
     "text": [
      "Критерий Хи-квадрат: 862.420944388723, P-value: 0.0, Отвергаем H0\n",
      "chi2_lib: 862.4209443887229, p_value_lib: 2.3086955851538105e-185\n"
     ]
    }
   ],
   "source": [
    "chi2_corr, p_value, h0_res = chi2_test(x2, y2)\n",
    "print(f'Критерий Хи-квадрат: {chi2_corr}, P-value: {p_value}, {h0_res}')\n",
    "chi2_lib, p_value_lib, _, _ = chi2_contingency([to_nominal(x2, 5), to_nominal(y2, 5)])\n",
    "print(f'chi2_lib: {chi2_lib}, p_value_lib: {p_value_lib}')"
   ]
  },
  {
   "cell_type": "markdown",
   "id": "f90bbd9b",
   "metadata": {},
   "source": [
    "Подсчет ошибок 2-го рода"
   ]
  },
  {
   "cell_type": "code",
   "execution_count": 99,
   "id": "d081e27d",
   "metadata": {},
   "outputs": [],
   "source": [
    "amount = 1000\n",
    "sample = sample2\n",
    "mu = 0\n",
    "sigma = 2\n",
    "size = 100"
   ]
  },
  {
   "cell_type": "code",
   "execution_count": 100,
   "id": "b5069dbc",
   "metadata": {},
   "outputs": [
    {
     "name": "stdout",
     "output_type": "stream",
     "text": [
      "Негауссовское монотонное распределение:\n",
      "corr_coef_test = 0.001\n",
      "spearman_test = 0.011\n",
      "pearson_test = 0.135\n",
      "Wall time: 2.9 s\n"
     ]
    }
   ],
   "source": [
    "%%time\n",
    "corr_freq, spearman_freq, chi2_freq = beta_errors(amount, sample, mu, sigma, size)\n",
    "print('Негауссовское монотонное распределение:')\n",
    "print(f'corr_coef_test = {corr_freq}')\n",
    "print(f'spearman_test = {spearman_freq}')\n",
    "print(f'pearson_test = {chi2_freq}')"
   ]
  },
  {
   "cell_type": "markdown",
   "id": "c64db617",
   "metadata": {},
   "source": [
    "## X, Y - негауссовское распределение, имеют нелинейную немонотонную зависимость"
   ]
  },
  {
   "cell_type": "code",
   "execution_count": 83,
   "id": "5b6f8a40",
   "metadata": {},
   "outputs": [],
   "source": [
    "mu3 = 0\n",
    "sigma3 = 2\n",
    "size3 = 1000"
   ]
  },
  {
   "cell_type": "code",
   "execution_count": 84,
   "id": "4a375472",
   "metadata": {},
   "outputs": [
    {
     "data": {
      "image/png": "[encoded data removed]",
      "text/plain": [
       "<Figure size 432x288 with 1 Axes>"
      ]
     },
     "metadata": {
      "needs_background": "light"
     },
     "output_type": "display_data"
    }
   ],
   "source": [
    "x3, y3 = sample3(mu3, sigma3, size3)\n",
    "plt.scatter(x3, y3)\n",
    "plt.show()"
   ]
  },
  {
   "cell_type": "markdown",
   "id": "b257a19d",
   "metadata": {},
   "source": [
    "##### Выборочный коэффициент корреляции"
   ]
  },
  {
   "cell_type": "code",
   "execution_count": 85,
   "id": "56a00785",
   "metadata": {},
   "outputs": [
    {
     "name": "stdout",
     "output_type": "stream",
     "text": [
      "Выборочный коэффициент корреляции: 0.02887822212499452, P-value: 0.36113233331286576, Принимаем H0\n",
      "corr_coeff_lib: 0.028878222124994513, p_value_lib: 0.36163309987127107\n"
     ]
    }
   ],
   "source": [
    "corr_coeff, p_value, h0_res = corr_coef_test(x3, y3)\n",
    "print(f'Выборочный коэффициент корреляции: {corr_coeff}, P-value: {p_value}, {h0_res}')\n",
    "corr_coeff_lib, p_value_lib = sts.pearsonr(x3, y3)\n",
    "print(f'corr_coeff_lib: {corr_coeff_lib}, p_value_lib: {p_value_lib}')"
   ]
  },
  {
   "cell_type": "markdown",
   "id": "25114d50",
   "metadata": {},
   "source": [
    "##### Критерий Спирмена"
   ]
  },
  {
   "cell_type": "code",
   "execution_count": 134,
   "id": "a2957423",
   "metadata": {},
   "outputs": [
    {
     "name": "stdout",
     "output_type": "stream",
     "text": [
      "Критерий Спирмена: 0.012044316044315995, P-value: 0.7034375715337322, Принимаем H0\n",
      "Spearman_lib: 0.012044316044316045, p_value_lib: 0.7036394998918469\n"
     ]
    }
   ],
   "source": [
    "spearman_corr, p_value, h0_res = spearman_test(x3, y3)\n",
    "print(f'Критерий Спирмена: {spearman_corr}, P-value: {p_value}, {h0_res}')\n",
    "spearman_corr_lib, p_value_lib = sts.spearmanr(x3, y3)\n",
    "print(f'Spearman_lib: {spearman_corr_lib}, p_value_lib: {p_value_lib}')"
   ]
  },
  {
   "cell_type": "markdown",
   "id": "28cc8488",
   "metadata": {},
   "source": [
    "##### Критерий $\\chi^2$"
   ]
  },
  {
   "cell_type": "code",
   "execution_count": 87,
   "id": "3cb1db48",
   "metadata": {},
   "outputs": [
    {
     "name": "stdout",
     "output_type": "stream",
     "text": [
      "Критерий Хи-квадрат: 105.65428050505628, P-value: 0.0, Отвергаем H0\n",
      "chi2_lib: 105.65428050505628, p_value_lib: 6.144206461060153e-22\n"
     ]
    }
   ],
   "source": [
    "chi2_corr, p_value, h0_res = chi2_test(x3, y3)\n",
    "print(f'Критерий Хи-квадрат: {chi2_corr}, P-value: {p_value}, {h0_res}')\n",
    "chi2_lib, p_value_lib, _, _ = chi2_contingency([to_nominal(x3, 5), to_nominal(y3, 5)])\n",
    "print(f'chi2_lib: {chi2_lib}, p_value_lib: {p_value_lib}')"
   ]
  },
  {
   "cell_type": "markdown",
   "id": "8a7fe742",
   "metadata": {},
   "source": [
    "Подсчет ошибок 2-го рода"
   ]
  },
  {
   "cell_type": "code",
   "execution_count": 88,
   "id": "38997642",
   "metadata": {},
   "outputs": [],
   "source": [
    "amount = 1000\n",
    "sample = sample3\n",
    "mu = 0\n",
    "sigma = 2\n",
    "size = 1000"
   ]
  },
  {
   "cell_type": "code",
   "execution_count": 89,
   "id": "6328e81d",
   "metadata": {},
   "outputs": [
    {
     "name": "stdout",
     "output_type": "stream",
     "text": [
      "Негауссовское немонотонное распределение:\n",
      "corr_coef_test = 0.846\n",
      "spearman_test = 0.928\n",
      "pearson_test = 0.028\n",
      "Wall time: 3.52 s\n"
     ]
    }
   ],
   "source": [
    "%%time\n",
    "corr_freq, spearman_freq, chi2_freq = beta_errors(amount, sample, mu, sigma, size)\n",
    "print('Негауссовское немонотонное распределение:')\n",
    "print(f'corr_coef_test = {corr_freq}')\n",
    "print(f'spearman_test = {spearman_freq}')\n",
    "print(f'pearson_test = {chi2_freq}')"
   ]
  },
  {
   "cell_type": "code",
   "execution_count": null,
   "id": "db5ed32b",
   "metadata": {},
   "outputs": [],
   "source": []
  }
 ],
 "metadata": {
  "kernelspec": {
   "display_name": "Python 3",
   "language": "python",
   "name": "python3"
  },
  "language_info": {
   "codemirror_mode": {
    "name": "ipython",
    "version": 3
   },
   "file_extension": ".py",
   "mimetype": "text/x-python",
   "name": "python",
   "nbconvert_exporter": "python",
   "pygments_lexer": "ipython3",
   "version": "3.8.8"
  }
 },
 "nbformat": 4,
 "nbformat_minor": 5
}
