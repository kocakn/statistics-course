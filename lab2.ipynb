{
 "cells": [
  {
   "cell_type": "markdown",
   "id": "645ceab3",
   "metadata": {},
   "source": [
    "Необходимо смоделировать 2 количественных признака для трех случаев:\n",
    "\n",
    "1. X, Y - гауссовское распределение, имеют монотонную зависимость \n",
    "2. X, Y - негауссовское распределение, имеют линейную монотонную зависимость \n",
    "3. X, Y - негауссовское распределение, имеют нелинейную немонотонную зависимость\n",
    "\n",
    "Для полученных данных проверить гипотезу о зависимости признаков тремя критериями:\n",
    "\n",
    "1. Выборочный коэффициент корреляции \n",
    "2. Критерий спирмана Критерий \n",
    "3. Хи-квадрат Пирсона \n",
    "\n",
    "Вычислить частоту ошибок второго рода для каждого случая и сравнить полученные результаты."
   ]
  },
  {
   "cell_type": "code",
   "execution_count": 1,
   "id": "c35028dd",
   "metadata": {},
   "outputs": [],
   "source": [
    "import numpy as np\n",
    "from scipy import stats as sts\n",
    "from scipy.stats import chi2_contingency\n",
    "import matplotlib.pyplot as plt"
   ]
  },
  {
   "cell_type": "code",
   "execution_count": 2,
   "id": "5f9430d7",
   "metadata": {},
   "outputs": [],
   "source": [
    "def sample1(mu, sigma, n):\n",
    "    x = np.random.normal(mu, sigma, n)\n",
    "    y = 0.6 * x + 0.4 * np.random.normal(mu, sigma, n)\n",
    "    return x, y\n",
    "\n",
    "def sample2(mu, sigma, n):\n",
    "    x = np.random.normal(mu, sigma, n)\n",
    "    y = 0.4 * x**3 + 2 * np.random.normal(mu, sigma, n)\n",
    "    return x, y\n",
    "\n",
    "def sample3(mu, sigma, n):\n",
    "    x = np.random.normal(mu, sigma, n)\n",
    "    y = 0.4 * x**2 + 2 * np.random.normal(mu, sigma, n)\n",
    "    return x, y"
   ]
  },
  {
   "cell_type": "code",
   "execution_count": 3,
   "id": "81b3bcfb",
   "metadata": {},
   "outputs": [],
   "source": [
    "# Выборочный коэффициент корреляции\n",
    "def corr_coef_test(x, y, alpha=0.05):\n",
    "    n = len(x)\n",
    "    x_mean = x.mean()\n",
    "    y_mean = y.mean()\n",
    "\n",
    "    # Pearson\n",
    "    r = (\n",
    "            1/n * np.sum((x - x_mean)*(y - y_mean)) / \n",
    "            (1/n*np.sum((x - x_mean)**2) * 1/n*np.sum((y - y_mean)**2))**0.5\n",
    "    )\n",
    "    t = n ** 0.5 * r\n",
    "    # p-value\n",
    "    p_value = np.min(np.array([2 * sts.norm.cdf(t), 2 - 2 * sts.norm.cdf(t)]), axis=0)\n",
    "    if (p_value > alpha / 2) and (p_value < (1 - alpha / 2)):\n",
    "        h0 = 'Принимаем H0'\n",
    "    else:\n",
    "        h0 = 'Отвергаем H0'\n",
    "    return r, p_value, h0"
   ]
  },
  {
   "cell_type": "code",
   "execution_count": 4,
   "id": "5e547a8d",
   "metadata": {},
   "outputs": [],
   "source": [
    "# Критерий Спирмана\n",
    "def spearman_test(x, y, alpha=0.05):\n",
    "    n = len(x)\n",
    "    x_ranks = sts.rankdata(x)\n",
    "    y_ranks = sts.rankdata(y)\n",
    "\n",
    "    s = np.sum((x_ranks - y_ranks)**2)\n",
    "    # Spearman\n",
    "    r = 1 - 6*s/(n**3 - n)\n",
    "    t = (n-1)**0.5 * r\n",
    "    p_value = np.min(np.array([2 * sts.norm.cdf(t), 2 - 2 * sts.norm.cdf(t)]), axis=0)\n",
    "    if (p_value > alpha / 2) and (p_value < (1 - alpha / 2)):\n",
    "        h0 = 'Принимаем H0'\n",
    "    else:\n",
    "        h0 = 'Отвергаем H0'\n",
    "    return r, p_value, h0"
   ]
  },
  {
   "cell_type": "code",
   "execution_count": 5,
   "id": "b4a39fd1",
   "metadata": {},
   "outputs": [],
   "source": [
    "# Критерий Пирсона (хи-квадрат)\n",
    "def to_nominal(x, k):\n",
    "    x_sort = np.sort(x)\n",
    "    x_in_scale = np.zeros(k)\n",
    "    slices = np.linspace(x_sort[0], x_sort[-1], k+1)\n",
    "    for i in range(k):\n",
    "        x_part = x[x >= slices[i]]\n",
    "        x_count = (x_part <= slices[i+1]).sum()\n",
    "        x_in_scale[i] = x_count\n",
    "    return x_in_scale\n",
    "\n",
    "def chi2_test(x, y, alpha=0.05):\n",
    "    n = len(x)\n",
    "    x_nom, y_nom = to_nominal(x, 5), to_nominal(y, 5)\n",
    "    matrix = np.concatenate(([x_nom], [y_nom]))\n",
    "    chi_square_value = 0\n",
    "\n",
    "    for i in range(2):\n",
    "        for j in range(len(x_nom)):\n",
    "            chi_square_value += (matrix[i][j] - (np.sum(matrix[i]) * np.sum(matrix[:,j]) / np.sum(matrix))) ** 2 \\\n",
    "            / (np.sum(matrix[i]) * np.sum(matrix[:,j]) / np.sum(matrix))\n",
    "\n",
    "    # cdf\n",
    "    p_value = 1 - sts.chi2.cdf(chi_square_value, (len(x_nom) - 1))\n",
    "    if p_value > alpha:\n",
    "        h0_true = 'Принимаем H0'\n",
    "    else:\n",
    "        h0_true = 'Отвергаем H0'\n",
    "    return chi_square_value, p_value, h0_true"
   ]
  },
  {
   "cell_type": "code",
   "execution_count": 6,
   "id": "f3bb2b46",
   "metadata": {},
   "outputs": [],
   "source": [
    "# перевод из текста\n",
    "def summarize_hypothesis(listed_text):\n",
    "    return sum(1 if text == 'Принимаем H0' else 0 for text in listed_text)\n",
    "\n",
    "# Подсчёт ошибок 2-го рода\n",
    "def beta_errors(amount, f, mu, sigma, size):\n",
    "    corr_coef_res  = []\n",
    "    spearman_res = []\n",
    "    pearson_res   = []\n",
    "    for _ in range(amount):\n",
    "        x, y = f(mu, sigma, size)\n",
    "        corr_coef_res.append(corr_coef_test(x, y)[2])\n",
    "        spearman_res.append(spearman_test(x, y)[2])\n",
    "        pearson_res.append(chi2_test(x, y)[2])\n",
    "    \n",
    "    \n",
    "    \n",
    "    corr_coef_freq = summarize_hypothesis(corr_coef_res) / amount\n",
    "    spearman_freq = summarize_hypothesis(spearman_res) / amount\n",
    "    pearson_freq = summarize_hypothesis(pearson_res) / amount\n",
    "    \n",
    "    return corr_coef_freq, spearman_freq, pearson_freq"
   ]
  },
  {
   "cell_type": "markdown",
   "id": "6c365cd3",
   "metadata": {},
   "source": [
    "## Распределения"
   ]
  },
  {
   "cell_type": "code",
   "execution_count": 7,
   "id": "244a21c0",
   "metadata": {},
   "outputs": [
    {
     "data": {
      "image/png": "[encoded data removed]",
      "text/plain": [
       "<Figure size 432x288 with 1 Axes>"
      ]
     },
     "metadata": {
      "needs_background": "light"
     },
     "output_type": "display_data"
    }
   ],
   "source": [
    "# X, Y - гауссовское распределение, имеют монотонную зависимость\n",
    "x1, y1 = sample1(0, 10, 1000)\n",
    "plt.scatter(x1, y1)\n",
    "plt.show()"
   ]
  },
  {
   "cell_type": "code",
   "execution_count": 9,
   "id": "541c936b",
   "metadata": {},
   "outputs": [
    {
     "name": "stdout",
     "output_type": "stream",
     "text": [
      "Выборочный коэффициент корреляции: 0.833390666030151, P-value: 0.0, Отвергаем H0\n",
      "corr_coeff_lib: 0.8333906660301504, p_value_lib: 2.974708105373892e-259\n"
     ]
    }
   ],
   "source": [
    "# Выборочный коэффициент корреляции\n",
    "corr_coeff, p_value, h0_res = corr_coef_test(x1, y1)\n",
    "print(f'Выборочный коэффициент корреляции: {corr_coeff}, P-value: {p_value}, {h0_res}')\n",
    "corr_coeff_lib, p_value_lib = sts.pearsonr(x1, y1)\n",
    "print(f'corr_coeff_lib: {corr_coeff_lib}, p_value_lib: {p_value_lib}')"
   ]
  },
  {
   "cell_type": "code",
   "execution_count": 10,
   "id": "1ab6fb76",
   "metadata": {},
   "outputs": [
    {
     "name": "stdout",
     "output_type": "stream",
     "text": [
      "Критерий Спирмана: 0.8236311916311916, P-value: 0.0, Отвергаем H0\n",
      "Spearman_lib: 0.8236311916311917, p_value_lib: 4.553705880894581e-248\n"
     ]
    }
   ],
   "source": [
    "# критерий Спирмана\n",
    "spearman_corr, p_value, h0_res = spearman_test(x1, y1)\n",
    "print(f'Критерий Спирмана: {spearman_corr}, P-value: {p_value}, {h0_res}')\n",
    "spearman_corr_lib, p_value_lib = sts.spearmanr(x1, y1)\n",
    "print(f'Spearman_lib: {spearman_corr_lib}, p_value_lib: {p_value_lib}')"
   ]
  },
  {
   "cell_type": "code",
   "execution_count": 12,
   "id": "3dfbf31e",
   "metadata": {},
   "outputs": [
    {
     "name": "stdout",
     "output_type": "stream",
     "text": [
      "Критерий Хи-квадрат: 23.868761939083413, P-value: 8.486133283258646e-05, Отвергаем H0\n",
      "chi2_lib: 23.868761939083413, p_value_lib: 8.486133283253754e-05\n"
     ]
    }
   ],
   "source": [
    "# критерий хи-квадрат\n",
    "chi2_corr, p_value, h0_res = chi2_test(x1, y1)\n",
    "print(f'Критерий Хи-квадрат: {chi2_corr}, P-value: {p_value}, {h0_res}')\n",
    "chi2_lib, p_value_lib, _, _ = chi2_contingency([to_nominal(x1, 5), to_nominal(y1, 5)])\n",
    "print(f'chi2_lib: {chi2_lib}, p_value_lib: {p_value_lib}')"
   ]
  },
  {
   "cell_type": "markdown",
   "id": "d2fc7db1",
   "metadata": {},
   "source": [
    "Подсчет ошибок 2-го рода"
   ]
  },
  {
   "cell_type": "code",
   "execution_count": 14,
   "id": "63cb8a0f",
   "metadata": {},
   "outputs": [],
   "source": [
    "mu = 0\n",
    "sigma = 10\n",
    "size = 1000"
   ]
  },
  {
   "cell_type": "code",
   "execution_count": 15,
   "id": "f81360d8",
   "metadata": {},
   "outputs": [
    {
     "name": "stdout",
     "output_type": "stream",
     "text": [
      "Гауссовское распределение:\n",
      "corr_coef_test = 0.0\n",
      "spearman_test = 0.0\n",
      "pearson_test = 0.27\n",
      "Wall time: 4.56 s\n"
     ]
    }
   ],
   "source": [
    "%%time\n",
    "corr_freq, spearman_freq, chi2_freq = beta_errors(1000, sample1, mu, sigma, size)\n",
    "print('Гауссовское распределение:')\n",
    "print(f'corr_coef_test = {corr_freq}')\n",
    "print(f'spearman_test = {spearman_freq}')\n",
    "print(f'pearson_test = {chi2_freq}')"
   ]
  },
  {
   "cell_type": "code",
   "execution_count": 17,
   "id": "9cea56d6",
   "metadata": {},
   "outputs": [
    {
     "data": {
      "image/png": "[encoded data removed]",
      "text/plain": [
       "<Figure size 432x288 with 1 Axes>"
      ]
     },
     "metadata": {
      "needs_background": "light"
     },
     "output_type": "display_data"
    }
   ],
   "source": [
    "# X, Y - негауссовское распределение, имеют линейную монотонную зависимость\n",
    "x2, y2 = sample2(0, 2, 1000)\n",
    "plt.scatter(x2, y2)\n",
    "plt.show()"
   ]
  },
  {
   "cell_type": "code",
   "execution_count": 18,
   "id": "47e092fb",
   "metadata": {},
   "outputs": [
    {
     "name": "stdout",
     "output_type": "stream",
     "text": [
      "Выборочный коэффициент корреляции: 0.7498540452294805, P-value: 0.0, Отвергаем H0\n",
      "corr_coeff_lib: 0.7498540452294795, p_value_lib: 3.043767547715738e-181\n"
     ]
    }
   ],
   "source": [
    "# Выборочный коэффициент корреляции\n",
    "corr_coeff, p_value, h0_res = corr_coef_test(x2, y2)\n",
    "print(f'Выборочный коэффициент корреляции: {corr_coeff}, P-value: {p_value}, {h0_res}')\n",
    "corr_coeff_lib, p_value_lib = sts.pearsonr(x2, y2)\n",
    "print(f'corr_coeff_lib: {corr_coeff_lib}, p_value_lib: {p_value_lib}')"
   ]
  },
  {
   "cell_type": "code",
   "execution_count": 19,
   "id": "84da5cf5",
   "metadata": {},
   "outputs": [
    {
     "name": "stdout",
     "output_type": "stream",
     "text": [
      "Критерий Спирмана: 0.6644819924819925, P-value: 0.0, Отвергаем H0\n",
      "Spearman_lib: 0.6644819924819926, p_value_lib: 2.136524152601656e-128\n"
     ]
    }
   ],
   "source": [
    "# критерий Спирмана\n",
    "spearman_corr, p_value, h0_res = spearman_test(x2, y2)\n",
    "print(f'Критерий Спирмана: {spearman_corr}, P-value: {p_value}, {h0_res}')\n",
    "spearman_corr_lib, p_value_lib = sts.spearmanr(x2, y2)\n",
    "print(f'Spearman_lib: {spearman_corr_lib}, p_value_lib: {p_value_lib}')"
   ]
  },
  {
   "cell_type": "code",
   "execution_count": 20,
   "id": "e564bfd4",
   "metadata": {},
   "outputs": [
    {
     "name": "stdout",
     "output_type": "stream",
     "text": [
      "Критерий Хи-квадрат: 246.4787811410722, P-value: 0.0, Отвергаем H0\n",
      "chi2_lib: 246.47878114107223, p_value_lib: 3.733120722657033e-52\n"
     ]
    }
   ],
   "source": [
    "# критерий хи-квадрат\n",
    "chi2_corr, p_value, h0_res = chi2_test(x2, y2)\n",
    "print(f'Критерий Хи-квадрат: {chi2_corr}, P-value: {p_value}, {h0_res}')\n",
    "chi2_lib, p_value_lib, _, _ = chi2_contingency([to_nominal(x2, 5), to_nominal(y2, 5)])\n",
    "print(f'chi2_lib: {chi2_lib}, p_value_lib: {p_value_lib}')"
   ]
  },
  {
   "cell_type": "markdown",
   "id": "f90bbd9b",
   "metadata": {},
   "source": [
    "Подсчет ошибок 2-го рода"
   ]
  },
  {
   "cell_type": "code",
   "execution_count": 21,
   "id": "b5069dbc",
   "metadata": {},
   "outputs": [
    {
     "name": "stdout",
     "output_type": "stream",
     "text": [
      "Гауссовское распределение:\n",
      "corr_coef_test = 0.0\n",
      "spearman_test = 0.0\n",
      "pearson_test = 0.0\n",
      "Wall time: 5.01 s\n"
     ]
    }
   ],
   "source": [
    "%%time\n",
    "corr_freq, spearman_freq, chi2_freq = beta_errors(1000, sample2, mu, sigma, size)\n",
    "print('Гауссовское распределение:')\n",
    "print(f'corr_coef_test = {corr_freq}')\n",
    "print(f'spearman_test = {spearman_freq}')\n",
    "print(f'pearson_test = {chi2_freq}')"
   ]
  },
  {
   "cell_type": "code",
   "execution_count": 22,
   "id": "4a375472",
   "metadata": {},
   "outputs": [
    {
     "data": {
      "image/png": "[encoded data removed]",
      "text/plain": [
       "<Figure size 432x288 with 1 Axes>"
      ]
     },
     "metadata": {
      "needs_background": "light"
     },
     "output_type": "display_data"
    }
   ],
   "source": [
    "# X, Y - негауссовское распределение, имеют нелинейную немонотонную зависимость\n",
    "x3, y3 = sample3(5, 10, 1000)\n",
    "plt.scatter(x3, y3)\n",
    "plt.show()"
   ]
  },
  {
   "cell_type": "code",
   "execution_count": 23,
   "id": "56a00785",
   "metadata": {},
   "outputs": [
    {
     "name": "stdout",
     "output_type": "stream",
     "text": [
      "Выборочный коэффициент корреляции: 0.5826890908498086, P-value: 0.0, Отвергаем H0\n",
      "corr_coeff_lib: 0.5826890908498082, p_value_lib: 5.543785644668043e-92\n"
     ]
    }
   ],
   "source": [
    "# Выборочный коэффициент корреляции\n",
    "corr_coeff, p_value, h0_res = corr_coef_test(x3, y3)\n",
    "print(f'Выборочный коэффициент корреляции: {corr_coeff}, P-value: {p_value}, {h0_res}')\n",
    "corr_coeff_lib, p_value_lib = sts.pearsonr(x3, y3)\n",
    "print(f'corr_coeff_lib: {corr_coeff_lib}, p_value_lib: {p_value_lib}')"
   ]
  },
  {
   "cell_type": "code",
   "execution_count": 24,
   "id": "a2957423",
   "metadata": {},
   "outputs": [
    {
     "name": "stdout",
     "output_type": "stream",
     "text": [
      "Критерий Спирмана: 0.5262339582339582, P-value: 0.0, Отвергаем H0\n",
      "Spearman_lib: 0.5262339582339582, p_value_lib: 2.589976040825215e-72\n"
     ]
    }
   ],
   "source": [
    "# критерий Спирмана\n",
    "spearman_corr, p_value, h0_res = spearman_test(x3, y3)\n",
    "print(f'Критерий Спирмана: {spearman_corr}, P-value: {p_value}, {h0_res}')\n",
    "spearman_corr_lib, p_value_lib = sts.spearmanr(x3, y3)\n",
    "print(f'Spearman_lib: {spearman_corr_lib}, p_value_lib: {p_value_lib}')"
   ]
  },
  {
   "cell_type": "code",
   "execution_count": 25,
   "id": "3cb1db48",
   "metadata": {},
   "outputs": [
    {
     "name": "stdout",
     "output_type": "stream",
     "text": [
      "Критерий Хи-квадрат: 1078.1035725316724, P-value: 0.0, Отвергаем H0\n",
      "chi2_lib: 1078.1035725316724, p_value_lib: 4.219093709640741e-232\n"
     ]
    }
   ],
   "source": [
    "# критерий хи-квадрат\n",
    "chi2_corr, p_value, h0_res = chi2_test(x3, y3)\n",
    "print(f'Критерий Хи-квадрат: {chi2_corr}, P-value: {p_value}, {h0_res}')\n",
    "chi2_lib, p_value_lib, _, _ = chi2_contingency([to_nominal(x3, 5), to_nominal(y3, 5)])\n",
    "print(f'chi2_lib: {chi2_lib}, p_value_lib: {p_value_lib}')"
   ]
  },
  {
   "cell_type": "code",
   "execution_count": 26,
   "id": "6328e81d",
   "metadata": {},
   "outputs": [
    {
     "name": "stdout",
     "output_type": "stream",
     "text": [
      "Гауссовское распределение:\n",
      "corr_coef_test = 0.694\n",
      "spearman_test = 0.896\n",
      "pearson_test = 0.0\n",
      "Wall time: 4 s\n"
     ]
    }
   ],
   "source": [
    "%%time\n",
    "corr_freq, spearman_freq, chi2_freq = beta_errors(1000, sample3, mu, sigma, size)\n",
    "print('Гауссовское распределение:')\n",
    "print(f'corr_coef_test = {corr_freq}')\n",
    "print(f'spearman_test = {spearman_freq}')\n",
    "print(f'pearson_test = {chi2_freq}')"
   ]
  },
  {
   "cell_type": "code",
   "execution_count": null,
   "id": "db5ed32b",
   "metadata": {},
   "outputs": [],
   "source": []
  }
 ],
 "metadata": {
  "kernelspec": {
   "display_name": "Python 3",
   "language": "python",
   "name": "python3"
  },
  "language_info": {
   "codemirror_mode": {
    "name": "ipython",
    "version": 3
   },
   "file_extension": ".py",
   "mimetype": "text/x-python",
   "name": "python",
   "nbconvert_exporter": "python",
   "pygments_lexer": "ipython3",
   "version": "3.8.8"
  }
 },
 "nbformat": 4,
 "nbformat_minor": 5
}
